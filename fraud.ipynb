{
 "cells": [
  {
   "cell_type": "code",
   "execution_count": 1,
   "metadata": {
    "collapsed": true
   },
   "outputs": [],
   "source": [
    "import numpy as np\n",
    "import pandas as pd\n",
    "from sklearn.metrics import confusion_matrix"
   ]
  },
  {
   "cell_type": "code",
   "execution_count": 2,
   "metadata": {
    "collapsed": true
   },
   "outputs": [],
   "source": [
    "df = pd.read_csv('fraud_data.csv')\n",
    "X = df.iloc[:, :-1]\n",
    "Y = df.iloc[:,-1]\n",
    "# print(X.head())\n",
    "# print(Y.head())"
   ]
  },
  {
   "cell_type": "code",
   "execution_count": 4,
   "metadata": {
    "collapsed": false
   },
   "outputs": [
    {
     "name": "stdout",
     "output_type": "stream",
     "text": [
      "1.6410823768035772\n"
     ]
    }
   ],
   "source": [
    "x = (Y[ Y == 1 ]).shape[0]/Y.size\n",
    "print(x*100)"
   ]
  },
  {
   "cell_type": "code",
   "execution_count": 3,
   "metadata": {
    "collapsed": true
   },
   "outputs": [],
   "source": [
    "from sklearn.model_selection import train_test_split"
   ]
  },
  {
   "cell_type": "code",
   "execution_count": 4,
   "metadata": {
    "collapsed": true
   },
   "outputs": [],
   "source": [
    "x_train, x_test, y_train, y_test = train_test_split(X,Y, random_state = 0)"
   ]
  },
  {
   "cell_type": "code",
   "execution_count": 26,
   "metadata": {
    "collapsed": false
   },
   "outputs": [
    {
     "name": "stdout",
     "output_type": "stream",
     "text": [
      "recall:  0.0 \n",
      " acc:  0.985250737463\n"
     ]
    }
   ],
   "source": [
    "from sklearn.dummy import DummyClassifier\n",
    "from sklearn.metrics import recall_score\n",
    "dummy = DummyClassifier(strategy='most_frequent').fit(x_train, y_train)\n",
    "pred_d = dummy.predict(x_test)\n",
    "score_d = dummy.score(x_test,y_test)\n",
    "recall_d = recall_score(y_test, pred_d)\n",
    "print(\"recall: \",recall_d,\"\\n\",\"acc: \",score_d)"
   ]
  },
  {
   "cell_type": "code",
   "execution_count": 31,
   "metadata": {
    "collapsed": false
   },
   "outputs": [
    {
     "name": "stdout",
     "output_type": "stream",
     "text": [
      "recall:  0.75 \n",
      " acc:  0.995943952802 \n",
      " precision_score:  0.967741935484\n"
     ]
    },
    {
     "data": {
      "text/plain": [
       "array([[5342,    2],\n",
       "       [  20,   60]])"
      ]
     },
     "execution_count": 31,
     "metadata": {},
     "output_type": "execute_result"
    }
   ],
   "source": [
    "from sklearn.metrics import precision_score\n",
    "from sklearn.svm import SVC\n",
    "from sklearn.metrics import recall_score, precision_score\n",
    "from sklearn.svm import SVC\n",
    "svc_1 = SVC(C=10, gamma=.001, kernel='rbf').fit(x_train, y_train)\n",
    "acc_1 = svc_1.score(x_test, y_test)\n",
    "pred_1 = svc_1.predict(x_test)\n",
    "recall_1 = recall_score(y_test, pred_1)\n",
    "score_1 = precision_score(y_test, pred_1)\n",
    "\n",
    "print(\"recall: \",recall_1,\"\\n\",\"acc: \",acc_1, \"\\n\",\"precision_score: \", score_1)\n",
    "matrix_1 = confusion_matrix(y_test, pred_1)\n",
    "matrix_1"
   ]
  },
  {
   "cell_type": "code",
   "execution_count": 33,
   "metadata": {
    "collapsed": false
   },
   "outputs": [
    {
     "name": "stdout",
     "output_type": "stream",
     "text": [
      "recall:  0.8 \n",
      " acc:  0.990781710914 \n",
      " precision_score:  0.941176470588\n"
     ]
    },
    {
     "data": {
      "text/plain": [
       "array([[5344,    0],\n",
       "       [  50,   30]])"
      ]
     },
     "execution_count": 33,
     "metadata": {},
     "output_type": "execute_result"
    }
   ],
   "source": [
    "svcl = SVC().fit(x_train, y_train)\n",
    "accl = svcl.score(x_test, y_test)\n",
    "predl = svcl.predict(x_test)\n",
    "recall_l = recall_score(y_test, pred)\n",
    "score_l = precision_score(y_test, pred)\n",
    "\n",
    "print(\"recall: \",recall_l,\"\\n\",\"acc: \",accl, \"\\n\",\"precision_score: \", score_l)\n",
    "matrix_l = confusion_matrix(y_test, predl)\n",
    "matrix_l"
   ]
  },
  {
   "cell_type": "code",
   "execution_count": 10,
   "metadata": {
    "collapsed": false
   },
   "outputs": [
    {
     "data": {
      "text/plain": [
       "array([-1.09285824, -0.83364274, -1.07320874, ..., -1.06259224,\n",
       "       -1.11065396, -1.05949293])"
      ]
     },
     "execution_count": 10,
     "metadata": {},
     "output_type": "execute_result"
    }
   ],
   "source": [
    "y_decf = svc.decision_function(x_test)\n",
    "y_decf"
   ]
  },
  {
   "cell_type": "code",
   "execution_count": 12,
   "metadata": {
    "collapsed": false
   },
   "outputs": [
    {
     "data": {
      "text/plain": [
       "array([-1.09285824, -0.83364274, -1.07320874, ..., -1.06259224,\n",
       "       -1.11065396, -1.05949293])"
      ]
     },
     "execution_count": 12,
     "metadata": {},
     "output_type": "execute_result"
    }
   ],
   "source": [
    "y_decf_1 = svc.decision_function(x_test)\n",
    "y_decf_1"
   ]
  },
  {
   "cell_type": "code",
   "execution_count": 13,
   "metadata": {
    "collapsed": false
   },
   "outputs": [
    {
     "name": "stdout",
     "output_type": "stream",
     "text": [
      "recall:  0.8 \n",
      " acc:  0.996312684366 \n",
      " precision_score:  0.941176470588\n"
     ]
    }
   ],
   "source": [
    "\n",
    "svc_2 = SVC(C= 1e9, gamma= 1e-07).fit(x_train, y_train)\n",
    "acc = svc_2.score(x_test, y_test)\n",
    "pred = svc_2.predict(x_test)\n",
    "recall = recall_score(y_test, pred)\n",
    "score = precision_score(y_test, pred)\n",
    "\n",
    "print(\"recall: \",recall,\"\\n\",\"acc: \",acc, \"\\n\",\"precision_score: \", score)\n",
    "matrix = confusion_matrix(y_test, pred)"
   ]
  },
  {
   "cell_type": "code",
   "execution_count": 24,
   "metadata": {
    "collapsed": false
   },
   "outputs": [],
   "source": [
    "\n",
    "y_decf_2 = svc_2.decision_function(x_test)\n",
    "# y_decf_2 [y_decf_2 >= 0]\n",
    "y_score = np.zeros(pred.shape[0])\n",
    "y_score[ np.where( y_decf_2 >= -220 ) ] = 1\n",
    "matrix = confusion_matrix(y_test, y_score)"
   ]
  },
  {
   "cell_type": "code",
   "execution_count": 25,
   "metadata": {
    "collapsed": false
   },
   "outputs": [
    {
     "data": {
      "text/plain": [
       "array([[5320,   24],\n",
       "       [  14,   66]])"
      ]
     },
     "execution_count": 25,
     "metadata": {},
     "output_type": "execute_result"
    }
   ],
   "source": [
    "matrix\n"
   ]
  },
  {
   "cell_type": "code",
   "execution_count": null,
   "metadata": {
    "collapsed": true
   },
   "outputs": [],
   "source": [
    "from sklearn.metrics import precision_recall_curve\n",
    "precision, recall, thresholds = precision_recall_curve(y_test, y_scores_lr)\n",
    "for data in zip(precision, recall):\n",
    "    print(data)\n",
    "from sklearn.metrics import roc_curve, auc\n",
    "y_score_lr = lr.fit(X_train, y_train).decision_function(X_test)\n",
    "fpr_lr, tpr_lr, _ = roc_curve(y_test, y_score_lr)\n",
    "roc_auc_lr = auc(fpr_lr, tpr_lr)"
   ]
  },
  {
   "cell_type": "code",
   "execution_count": 20,
   "metadata": {
    "collapsed": false
   },
   "outputs": [],
   "source": [
    "from sklearn.linear_model import LogisticRegression\n",
    "from sklearn.metrics import precision_recall_curve\n",
    "from sklearn.metrics import roc_curve, auc\n",
    "\n",
    "lr = LogisticRegression().fit(x_train, y_train)\n",
    "y_prob = lr.predict_proba(x_test)\n",
    "y_des = lr.decision_function(x_test)"
   ]
  },
  {
   "cell_type": "code",
   "execution_count": 21,
   "metadata": {
    "collapsed": false
   },
   "outputs": [],
   "source": [
    "precision, recall, threshold = precision_recall_curve(y_test, y_des)\n",
    "fpr, tpr, _ = roc_curve(y_test, y_des)"
   ]
  },
  {
   "cell_type": "code",
   "execution_count": 23,
   "metadata": {
    "collapsed": false
   },
   "outputs": [
    {
     "name": "stdout",
     "output_type": "stream",
     "text": [
      "recall : [ 0.825]\n",
      "recall : [ 0.9375  0.95  ]\n"
     ]
    }
   ],
   "source": [
    "print('recall :',recall[np.where(precision == 0.75)] )\n",
    "print('recall :',tpr[np.where((fpr>= 0.159) & (fpr <= 0.161))] )"
   ]
  },
  {
   "cell_type": "code",
   "execution_count": 28,
   "metadata": {
    "collapsed": false
   },
   "outputs": [
    {
     "data": {
      "text/plain": [
       "array([  0.00000000e+00,   0.00000000e+00,   1.87125749e-04,\n",
       "         1.87125749e-04,   3.74251497e-04,   3.74251497e-04,\n",
       "         5.61377246e-04,   5.61377246e-04,   5.23952096e-03,\n",
       "         5.23952096e-03,   1.47829341e-02,   1.47829341e-02,\n",
       "         2.69461078e-02,   2.69461078e-02,   4.26646707e-02,\n",
       "         4.26646707e-02,   6.17514970e-02,   6.17514970e-02,\n",
       "         7.52245509e-02,   7.52245509e-02,   1.23315868e-01,\n",
       "         1.23315868e-01,   1.37911677e-01,   1.37911677e-01,\n",
       "         1.48577844e-01,   1.48577844e-01,   1.59618263e-01,\n",
       "         1.59618263e-01,   2.04715569e-01,   2.05276946e-01,\n",
       "         2.16878743e-01,   2.17252994e-01,   2.31287425e-01,\n",
       "         2.31287425e-01,   2.37836826e-01,   2.37836826e-01,\n",
       "         2.68899701e-01,   2.69273952e-01,   4.74738024e-01,\n",
       "         4.75112275e-01,   5.75598802e-01,   5.75598802e-01,\n",
       "         5.94498503e-01,   5.94498503e-01,   6.83757485e-01,\n",
       "         6.84131737e-01,   8.69011976e-01,   8.69386228e-01,\n",
       "         1.00000000e+00])"
      ]
     },
     "execution_count": 28,
     "metadata": {},
     "output_type": "execute_result"
    }
   ],
   "source": [
    "fpr"
   ]
  },
  {
   "cell_type": "code",
   "execution_count": 26,
   "metadata": {
    "collapsed": false
   },
   "outputs": [
    {
     "data": {
      "text/plain": [
       "(5424,)"
      ]
     },
     "execution_count": 26,
     "metadata": {},
     "output_type": "execute_result"
    }
   ],
   "source": [
    "y_test.shape"
   ]
  },
  {
   "cell_type": "code",
   "execution_count": 27,
   "metadata": {
    "collapsed": false
   },
   "outputs": [
    {
     "data": {
      "text/plain": [
       "(16269,)"
      ]
     },
     "execution_count": 27,
     "metadata": {},
     "output_type": "execute_result"
    }
   ],
   "source": [
    "y_train.shape"
   ]
  },
  {
   "cell_type": "code",
   "execution_count": 30,
   "metadata": {
    "collapsed": false
   },
   "outputs": [],
   "source": [
    "\n",
    "from sklearn.model_selection import GridSearchCV\n",
    "from sklearn.linear_model import LogisticRegression\n",
    "params_lr = {\n",
    "    'penalty': ['l1', 'l2'],\n",
    "    'C':[0.01, 0.1, 1, 10, 100]\n",
    "}\n",
    "grid_lr = GridSearchCV(estimator = LogisticRegression(), param_grid= params_lr, scoring = 'recall', cv = 3,verbose=1, n_jobs=-1)"
   ]
  },
  {
   "cell_type": "code",
   "execution_count": 31,
   "metadata": {
    "collapsed": false
   },
   "outputs": [
    {
     "name": "stdout",
     "output_type": "stream",
     "text": [
      "Fitting 3 folds for each of 10 candidates, totalling 30 fits\n"
     ]
    },
    {
     "name": "stderr",
     "output_type": "stream",
     "text": [
      "[Parallel(n_jobs=-1)]: Done  30 out of  30 | elapsed:   18.7s finished\n"
     ]
    },
    {
     "data": {
      "text/plain": [
       "GridSearchCV(cv=3, error_score='raise',\n",
       "       estimator=LogisticRegression(C=1.0, class_weight=None, dual=False, fit_intercept=True,\n",
       "          intercept_scaling=1, max_iter=100, multi_class='ovr', n_jobs=1,\n",
       "          penalty='l2', random_state=None, solver='liblinear', tol=0.0001,\n",
       "          verbose=0, warm_start=False),\n",
       "       fit_params={}, iid=True, n_jobs=-1,\n",
       "       param_grid={'penalty': ['l1', 'l2'], 'C': [0.01, 0.1, 1, 10, 100]},\n",
       "       pre_dispatch='2*n_jobs', refit=True, return_train_score=True,\n",
       "       scoring='recall', verbose=1)"
      ]
     },
     "execution_count": 31,
     "metadata": {},
     "output_type": "execute_result"
    }
   ],
   "source": [
    "grid_lr.fit(x_train, y_train)\n"
   ]
  },
  {
   "cell_type": "code",
   "execution_count": 32,
   "metadata": {
    "collapsed": false
   },
   "outputs": [
    {
     "name": "stdout",
     "output_type": "stream",
     "text": [
      "Grid best estimator:  LogisticRegression(C=10, class_weight=None, dual=False, fit_intercept=True,\n",
      "          intercept_scaling=1, max_iter=100, multi_class='ovr', n_jobs=1,\n",
      "          penalty='l2', random_state=None, solver='liblinear', tol=0.0001,\n",
      "          verbose=0, warm_start=False)\n",
      "Grid best parameter (max. accuracy):  0.8\n"
     ]
    }
   ],
   "source": [
    "print('Grid best estimator: ', grid_lr.best_estimator_)\n",
    "print('Grid best parameter (max. accuracy): ', grid_lr.score(x_test, y_test))"
   ]
  },
  {
   "cell_type": "code",
   "execution_count": 33,
   "metadata": {
    "collapsed": false
   },
   "outputs": [
    {
     "data": {
      "text/plain": [
       "{'mean_fit_time': array([ 0.65230115,  2.43606559,  1.67400042,  3.86960816,  3.15615622,\n",
       "         5.17370685,  5.12476556,  5.8850855 ,  5.94351387,  3.76996501]),\n",
       " 'mean_score_time': array([ 0.30196381,  0.20207183,  0.15891083,  0.46493435,  0.30456487,\n",
       "         0.12867379,  0.50299215,  0.18525807,  0.16701214,  0.09860603]),\n",
       " 'mean_test_score': array([ 0.66666667,  0.76086957,  0.80072464,  0.80434783,  0.8115942 ,\n",
       "         0.8115942 ,  0.80797101,  0.8115942 ,  0.80797101,  0.80797101]),\n",
       " 'mean_train_score': array([ 0.68115942,  0.77355072,  0.80615942,  0.8134058 ,  0.81884058,\n",
       "         0.81702899,  0.82427536,  0.82427536,  0.82427536,  0.82427536]),\n",
       " 'param_C': masked_array(data = [0.01 0.01 0.1 0.1 1 1 10 10 100 100],\n",
       "              mask = [False False False False False False False False False False],\n",
       "        fill_value = ?),\n",
       " 'param_penalty': masked_array(data = ['l1' 'l2' 'l1' 'l2' 'l1' 'l2' 'l1' 'l2' 'l1' 'l2'],\n",
       "              mask = [False False False False False False False False False False],\n",
       "        fill_value = ?),\n",
       " 'params': ({'C': 0.01, 'penalty': 'l1'},\n",
       "  {'C': 0.01, 'penalty': 'l2'},\n",
       "  {'C': 0.1, 'penalty': 'l1'},\n",
       "  {'C': 0.1, 'penalty': 'l2'},\n",
       "  {'C': 1, 'penalty': 'l1'},\n",
       "  {'C': 1, 'penalty': 'l2'},\n",
       "  {'C': 10, 'penalty': 'l1'},\n",
       "  {'C': 10, 'penalty': 'l2'},\n",
       "  {'C': 100, 'penalty': 'l1'},\n",
       "  {'C': 100, 'penalty': 'l2'}),\n",
       " 'rank_test_score': array([10,  9,  8,  7,  2,  2,  4,  1,  4,  4], dtype=int32),\n",
       " 'split0_test_score': array([ 0.70652174,  0.80434783,  0.80434783,  0.82608696,  0.82608696,\n",
       "         0.82608696,  0.82608696,  0.83695652,  0.82608696,  0.82608696]),\n",
       " 'split0_train_score': array([ 0.69021739,  0.77173913,  0.79891304,  0.80978261,  0.82065217,\n",
       "         0.81521739,  0.82065217,  0.82065217,  0.82065217,  0.82065217]),\n",
       " 'split1_test_score': array([ 0.69565217,  0.75      ,  0.83695652,  0.83695652,  0.83695652,\n",
       "         0.83695652,  0.83695652,  0.83695652,  0.83695652,  0.83695652]),\n",
       " 'split1_train_score': array([ 0.67391304,  0.76630435,  0.79891304,  0.80434783,  0.80978261,\n",
       "         0.80978261,  0.81521739,  0.81521739,  0.81521739,  0.81521739]),\n",
       " 'split2_test_score': array([ 0.59782609,  0.72826087,  0.76086957,  0.75      ,  0.77173913,\n",
       "         0.77173913,  0.76086957,  0.76086957,  0.76086957,  0.76086957]),\n",
       " 'split2_train_score': array([ 0.67934783,  0.7826087 ,  0.82065217,  0.82608696,  0.82608696,\n",
       "         0.82608696,  0.83695652,  0.83695652,  0.83695652,  0.83695652]),\n",
       " 'std_fit_time': array([ 0.12177237,  0.65958393,  0.73082964,  0.5557962 ,  0.546806  ,\n",
       "         0.50058426,  1.82720188,  0.29839264,  1.48751289,  1.1974507 ]),\n",
       " 'std_score_time': array([ 0.08423335,  0.07142318,  0.04616892,  0.26342797,  0.08498721,\n",
       "         0.05100555,  0.24708606,  0.09169991,  0.12266647,  0.07726372]),\n",
       " 'std_test_score': array([ 0.04887948,  0.03199913,  0.03116785,  0.03868507,  0.02852901,\n",
       "         0.02852901,  0.03360007,  0.03586774,  0.03360007,  0.03360007]),\n",
       " 'std_train_score': array([ 0.00677836,  0.00677836,  0.01024792,  0.00923735,  0.00677836,\n",
       "         0.00677836,  0.00923735,  0.00923735,  0.00923735,  0.00923735])}"
      ]
     },
     "execution_count": 33,
     "metadata": {},
     "output_type": "execute_result"
    }
   ],
   "source": [
    "grid_lr.cv_results_"
   ]
  },
  {
   "cell_type": "code",
   "execution_count": 36,
   "metadata": {
    "collapsed": false
   },
   "outputs": [
    {
     "data": {
      "text/plain": [
       "array([ 0.66666667,  0.76086957,  0.80072464,  0.80434783,  0.8115942 ,\n",
       "        0.8115942 ,  0.80797101,  0.8115942 ,  0.80797101,  0.80797101])"
      ]
     },
     "execution_count": 36,
     "metadata": {},
     "output_type": "execute_result"
    }
   ],
   "source": [
    "grid_lr.cv_results_['mean_test_score']"
   ]
  },
  {
   "cell_type": "code",
   "execution_count": 37,
   "metadata": {
    "collapsed": true
   },
   "outputs": [],
   "source": [
    "arr = grid_lr.cv_results_['mean_test_score'].reshape([5,2])"
   ]
  },
  {
   "cell_type": "code",
   "execution_count": 38,
   "metadata": {
    "collapsed": false
   },
   "outputs": [
    {
     "data": {
      "text/plain": [
       "array([[ 0.66666667,  0.76086957],\n",
       "       [ 0.80072464,  0.80434783],\n",
       "       [ 0.8115942 ,  0.8115942 ],\n",
       "       [ 0.80797101,  0.8115942 ],\n",
       "       [ 0.80797101,  0.80797101]])"
      ]
     },
     "execution_count": 38,
     "metadata": {},
     "output_type": "execute_result"
    }
   ],
   "source": [
    "# RECALL SCORE\n",
    "arr"
   ]
  },
  {
   "cell_type": "code",
   "execution_count": null,
   "metadata": {
    "collapsed": true
   },
   "outputs": [],
   "source": []
  }
 ],
 "metadata": {
  "kernelspec": {
   "display_name": "Python 3",
   "language": "python",
   "name": "python3"
  },
  "language_info": {
   "codemirror_mode": {
    "name": "ipython",
    "version": 3
   },
   "file_extension": ".py",
   "mimetype": "text/x-python",
   "name": "python",
   "nbconvert_exporter": "python",
   "pygments_lexer": "ipython3",
   "version": "3.6.2"
  }
 },
 "nbformat": 4,
 "nbformat_minor": 1
}
