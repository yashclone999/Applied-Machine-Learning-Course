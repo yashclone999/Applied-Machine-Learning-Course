{
 "cells": [
  {
   "cell_type": "code",
   "execution_count": 1,
   "metadata": {
    "collapsed": false
   },
   "outputs": [
    {
     "name": "stdout",
     "output_type": "stream",
     "text": [
      "{'n_estimators': [10, 20, 30, 40, 50, 60, 70, 80, 90, 100, 110, 120, 130, 140, 150, 160, 170, 180, 190, 200], 'max_features': ['auto', 'sqrt'], 'max_depth': [1, 4, 7, 10, None], 'min_samples_split': [2, 5, 10], 'min_samples_leaf': [1, 2, 4], 'bootstrap': [True, False]}\n"
     ]
    }
   ],
   "source": [
    "import numpy as np\n",
    "import pandas as pd\n",
    "from sklearn.model_selection import train_test_split\n",
    "from sklearn.model_selection import RandomizedSearchCV\n",
    "from sklearn.model_selection import GridSearchCV\n",
    "from sklearn.metrics import roc_auc_score\n",
    "from sklearn.ensemble import RandomForestClassifier\n",
    "\n",
    "\n",
    "\n",
    "# Number of trees in random forest\n",
    "n_estimators = [int(x) for x in np.linspace(start = 10, stop = 200, num = 20)]\n",
    "# Number of features to consider at every split\n",
    "max_features = ['auto', 'sqrt']\n",
    "# Maximum number of levels in tree\n",
    "max_depth = [int(x) for x in np.linspace(1, 10, num = 4)]\n",
    "max_depth.append(None)\n",
    "# Minimum number of samples required to split a node\n",
    "min_samples_split = [2, 5, 10]\n",
    "# Minimum number of samples required at each leaf node\n",
    "min_samples_leaf = [1, 2, 4]\n",
    "# Method of selecting samples for training each tree\n",
    "bootstrap = [True, False]\n",
    "# Create the random grid\n",
    "random_grid = {'n_estimators': n_estimators,\n",
    "               'max_features': max_features,\n",
    "               'max_depth': max_depth,\n",
    "               'min_samples_split': min_samples_split,\n",
    "               'min_samples_leaf': min_samples_leaf,\n",
    "               'bootstrap': bootstrap}\n",
    "\n",
    "print(random_grid)\n",
    "\n"
   ]
  },
  {
   "cell_type": "code",
   "execution_count": 2,
   "metadata": {
    "collapsed": true
   },
   "outputs": [],
   "source": [
    "mush_df = pd.read_csv('mushrooms.csv')\n",
    "mush_df2 = pd.get_dummies(mush_df)\n",
    "\n",
    "X_mush = mush_df2.iloc[:,2:]\n",
    "# Y_mush = mush_df2.iloc[:,1]\n",
    "mush_df.replace({'class':{'p': 1, 'e': 0} }, inplace=True)\n",
    "y_mush = mush_df.iloc[:, 0]\n",
    "X_train2, X_test2, y_train2, y_test2 = train_test_split(X_mush, y_mush, random_state=0)\n",
    "clf = RandomForestClassifier()\n",
    "gd = RandomizedSearchCV(estimator=clf,n_iter=50, param_distributions= random_grid, n_jobs=-1, cv = 4 )\n",
    "\n"
   ]
  },
  {
   "cell_type": "code",
   "execution_count": null,
   "metadata": {
    "collapsed": true
   },
   "outputs": [],
   "source": [
    "gd.fit(X_train2, y_train2)\n",
    "\n",
    "# RandomizedSearchCV(cv=4, error_score=nan,\n",
    "#                    estimator=RandomForestClassifier(bootstrap=True,\n",
    "#                                                     ccp_alpha=0.0,\n",
    "#                                                     class_weight=None,\n",
    "#                                                     criterion='gini',\n",
    "#                                                     max_depth=None,\n",
    "#                                                     max_features='auto',\n",
    "#                                                     max_leaf_nodes=None,\n",
    "#                                                     max_samples=None,\n",
    "#                                                     min_impurity_decrease=0.0,\n",
    "#                                                     min_impurity_split=None,\n",
    "#                                                     min_samples_leaf=1,\n",
    "#                                                     min_samples_split=2,\n",
    "#                                                     min_weight_fraction_leaf=0.0,\n",
    "#                                                     n_estimators=100,\n",
    "#                                                     n_jobs...\n",
    "#                    param_distributions={'bootstrap': [True, False],\n",
    "#                                         'max_depth': [1, 4, 7, 10, None],\n",
    "#                                         'max_features': ['auto', 'sqrt'],\n",
    "#                                         'min_samples_leaf': [1, 2, 4],\n",
    "#                                         'min_samples_split': [2, 5, 10],\n",
    "#                                         'n_estimators': [10, 20, 30, 40, 50, 60,\n",
    "#                                                          70, 80, 90, 100, 110,\n",
    "#                                                          120, 130, 140, 150,\n",
    "#                                                          160, 170, 180, 190,\n",
    "#                                                          200]},\n",
    "#                    pre_dispatch='2*n_jobs', random_state=None, refit=True,\n",
    "#                    return_train_score=False, scoring=None, verbose=0)\n",
    "\n",
    "\n",
    "print('Grid best estimator: ', grid_svc.best_estimator_)\n",
    "print('Grid best parameter (max. accuracy): ', grid_svc.score(X_test2, y_test2))\n",
    "# OUTPUT ON GOOGLE-COLAB TPU\n",
    "\n",
    "# Grid best estimator:  RandomForestClassifier(bootstrap=False, ccp_alpha=0.0, class_weight=None,\n",
    "#                        criterion='gini', max_depth=7, max_features='auto',\n",
    "#                        max_leaf_nodes=None, max_samples=None,\n",
    "#                        min_impurity_decrease=0.0, min_impurity_split=None,\n",
    "#                        min_samples_leaf=1, min_samples_split=2,\n",
    "#                        min_weight_fraction_leaf=0.0, n_estimators=40,\n",
    "#                        n_jobs=None, oob_score=False, random_state=None,\n",
    "#                        verbose=0, warm_start=False)\n",
    "# Grid best parameter (max. accuracy):  1.0"
   ]
  },
  {
   "cell_type": "code",
   "execution_count": null,
   "metadata": {
    "collapsed": true
   },
   "outputs": [],
   "source": []
  }
 ],
 "metadata": {
  "kernelspec": {
   "display_name": "Python 3",
   "language": "python",
   "name": "python3"
  },
  "language_info": {
   "codemirror_mode": {
    "name": "ipython",
    "version": 3
   },
   "file_extension": ".py",
   "mimetype": "text/x-python",
   "name": "python",
   "nbconvert_exporter": "python",
   "pygments_lexer": "ipython3",
   "version": "3.6.2"
  }
 },
 "nbformat": 4,
 "nbformat_minor": 1
}
